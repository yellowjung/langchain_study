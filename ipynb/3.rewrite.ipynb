{
 "cells": [
  {
   "cell_type": "code",
   "id": "initial_id",
   "metadata": {
    "collapsed": true,
    "ExecuteTime": {
     "end_time": "2025-10-26T11:13:12.178993Z",
     "start_time": "2025-10-26T11:13:10.875752Z"
    }
   },
   "source": [
    "from langchain_chroma import Chroma\n",
    "from langchain_openai import OpenAIEmbeddings\n",
    "from dotenv import load_dotenv\n",
    "load_dotenv()\n",
    "\n",
    "embedding_function = OpenAIEmbeddings(model='text-embedding-3-large')\n",
    "\n",
    "vector_store = Chroma(\n",
    "    embedding_function = embedding_function,\n",
    "    collection_name = 'income_tax_collection',\n",
    "    persist_directory = './income_tax_collection'\n",
    ")\n",
    "\n",
    "retriever = vector_store.as_retriever(search_kwargs={'k': 3})"
   ],
   "outputs": [],
   "execution_count": 1
  },
  {
   "metadata": {
    "ExecuteTime": {
     "end_time": "2025-10-26T11:13:12.207544Z",
     "start_time": "2025-10-26T11:13:12.182212Z"
    }
   },
   "cell_type": "code",
   "source": [
    "from typing_extensions import List, TypedDict\n",
    "from langchain_core.documents import Document\n",
    "from langgraph.graph import StateGraph\n",
    "\n",
    "class AgentState(TypedDict):\n",
    "    query: str\n",
    "    context: List[Document]\n",
    "    answer: str\n",
    "\n",
    "graph_builder = StateGraph(AgentState)"
   ],
   "id": "1198af0bf2107cc5",
   "outputs": [],
   "execution_count": 2
  },
  {
   "metadata": {
    "ExecuteTime": {
     "end_time": "2025-10-26T11:13:12.212013Z",
     "start_time": "2025-10-26T11:13:12.210562Z"
    }
   },
   "cell_type": "code",
   "source": [
    "def retrieve(state: AgentState) -> AgentState:\n",
    "    \"\"\"\n",
    "    사용자의 질문에 기반하여 벡터 스토어에서 관련 문서를 검색합니다.\n",
    "\n",
    "    Args:\n",
    "        state (AgentState): 사용자의 질문을 포함한 에이전트의 현재 state.\n",
    "\n",
    "    Returns:\n",
    "        AgentState: 검색된 문서가 추가된 state를 반환합니다.\n",
    "    \"\"\"\n",
    "    query = state['query']  # state에서 사용자의 질문을 추출합니다.\n",
    "    docs = retriever.invoke(query)  # 질문과 관련된 문서를 검색합니다.\n",
    "    return {'context': docs}  # 검색된 문서를 포함한 state를 반환합니다."
   ],
   "id": "29d473f8cb37af32",
   "outputs": [],
   "execution_count": 3
  },
  {
   "metadata": {
    "ExecuteTime": {
     "end_time": "2025-10-26T11:13:12.239800Z",
     "start_time": "2025-10-26T11:13:12.216155Z"
    }
   },
   "cell_type": "code",
   "source": [
    "from langchain_openai import ChatOpenAI\n",
    "\n",
    "llm = ChatOpenAI(model='gpt-4o')\n"
   ],
   "id": "2e613e6cdc5df11b",
   "outputs": [],
   "execution_count": 4
  },
  {
   "metadata": {
    "ExecuteTime": {
     "end_time": "2025-10-26T11:13:12.450252Z",
     "start_time": "2025-10-26T11:13:12.243223Z"
    }
   },
   "cell_type": "code",
   "source": [
    "from langchain import hub\n",
    "generate_prompt = hub.pull(\"rlm/rag-prompt\")\n",
    "\n",
    "def generate(state: AgentState):\n",
    "    context = state['context']\n",
    "    query = state['query']\n",
    "    rag_chain = generate_prompt | llm\n",
    "    response = rag_chain.invoke({'question': query, 'context': context})\n",
    "    return {'answer': response}"
   ],
   "id": "486336397e2fb519",
   "outputs": [],
   "execution_count": 5
  },
  {
   "metadata": {
    "ExecuteTime": {
     "end_time": "2025-10-26T11:13:12.660682Z",
     "start_time": "2025-10-26T11:13:12.455602Z"
    }
   },
   "cell_type": "code",
   "source": [
    "from langchain import hub\n",
    "from typing import Literal\n",
    "\n",
    "# 문서 관련성 판단을 위한 프롬프트를 가져옵니다.\n",
    "doc_relevance_prompt = hub.pull(\"langchain-ai/rag-document-relevance\")\n",
    "\n",
    "def check_doc_relevance(state: AgentState) -> Literal['generate', 'rewrite']:\n",
    "    \"\"\"\n",
    "    주어진 state를 기반으로 문서의 관련성을 판단합니다.\n",
    "\n",
    "    Args:\n",
    "        state (AgentState): 사용자의 질문과 문맥을 포함한 에이전트의 현재 state.\n",
    "\n",
    "    Returns:\n",
    "        Literal['generate', 'rewrite']: 문서가 관련성이 높으면 'generate', 그렇지 않으면 'rewrite'를 반환합니다.\n",
    "    \"\"\"\n",
    "    query = state['query']  # state에서 사용자의 질문을 추출합니다.\n",
    "    context = state['context']  # state에서 문맥을 추출합니다.\n",
    "    print(f'context: {context}')\n",
    "    # 문서 관련성 판단 체인을 구성합니다.\n",
    "    doc_relevance_chain = doc_relevance_prompt | llm\n",
    "\n",
    "    # 질문과 문맥을 사용하여 문서의 관련성을 판단합니다.\n",
    "    response = doc_relevance_chain.invoke({'question': query, 'documents': context})\n",
    "    print(f'doc relevance: {response}')\n",
    "    # 관련성이 높으면 'generate'를 반환하고, 그렇지 않으면 'rewrite'를 반환합니다.\n",
    "    if response['Score'] == 1:\n",
    "        return 'generate'\n",
    "\n",
    "    return 'rewrite'"
   ],
   "id": "78a47ed080840d24",
   "outputs": [],
   "execution_count": 6
  },
  {
   "metadata": {
    "ExecuteTime": {
     "end_time": "2025-10-26T11:13:12.675384Z",
     "start_time": "2025-10-26T11:13:12.672508Z"
    }
   },
   "cell_type": "code",
   "source": "query = '연봉 5천만원의 직장인의 소득세는?'",
   "id": "8ad10b76f41cda4e",
   "outputs": [],
   "execution_count": 7
  },
  {
   "metadata": {
    "ExecuteTime": {
     "end_time": "2025-10-26T11:13:12.694650Z",
     "start_time": "2025-10-26T11:13:12.689777Z"
    }
   },
   "cell_type": "code",
   "source": [
    "from langchain_core.prompts import PromptTemplate\n",
    "from langchain_core.output_parsers import StrOutputParser\n",
    "dictionary = ['사람과 관련된 표현 -> 거주자']\n",
    "rewrite_prompt = PromptTemplate.from_template(f\"\"\"\n",
    "사용자의 질문을 보고, 우리의 사전을 참고해서 사용자의 질문을 변경해주세요\n",
    "사전: {dictionary}\n",
    "질문: {{query}}\n",
    "\"\"\")\n",
    "\n",
    "def rewrite(state: AgentState) -> AgentState:\n",
    "    \"\"\"\n",
    "    사용자의 질문을 사전을 참고하여 변경합니다.\n",
    "\n",
    "    Args:\n",
    "        state (AgentState): 사용자의 질문을 포함한 에이전트의 현재 state.\n",
    "\n",
    "    Returns:\n",
    "        AgentState: 변경된 질문을 포함하는 state를 반환합니다.\n",
    "    \"\"\"\n",
    "    query = state['query']  # state에서 사용자의 질문을 추출합니다.\n",
    "\n",
    "    # 리라이트 체인을 구성합니다. 프롬프트, LLM, 출력 파서를 연결합니다.\n",
    "    rewrite_chain = rewrite_prompt | llm | StrOutputParser()\n",
    "\n",
    "    # 질문을 변경합니다.\n",
    "    response = rewrite_chain.invoke({'query': query})\n",
    "\n",
    "    return {'query': response}  # 변경된 질문을 포함하는 state를 반환합니다."
   ],
   "id": "323a3c1a2bc0c3a1",
   "outputs": [],
   "execution_count": 8
  },
  {
   "metadata": {
    "ExecuteTime": {
     "end_time": "2025-10-26T11:13:12.707707Z",
     "start_time": "2025-10-26T11:13:12.703669Z"
    }
   },
   "cell_type": "code",
   "source": [
    "graph_builder.add_node('retrieve', retrieve)\n",
    "graph_builder.add_node('generate', generate)\n",
    "graph_builder.add_node('rewrite', rewrite)"
   ],
   "id": "b75a282c5d29f64f",
   "outputs": [
    {
     "data": {
      "text/plain": [
       "<langgraph.graph.state.StateGraph at 0x10f0541a0>"
      ]
     },
     "execution_count": 9,
     "metadata": {},
     "output_type": "execute_result"
    }
   ],
   "execution_count": 9
  },
  {
   "metadata": {
    "ExecuteTime": {
     "end_time": "2025-10-26T11:13:12.719924Z",
     "start_time": "2025-10-26T11:13:12.716832Z"
    }
   },
   "cell_type": "code",
   "source": [
    "from langgraph.graph import START, END\n",
    "\n",
    "graph_builder.add_edge(START, 'retrieve')\n",
    "graph_builder.add_conditional_edges('retrieve', check_doc_relevance)\n",
    "graph_builder.add_edge('rewrite', 'retrieve')\n",
    "graph_builder.add_edge('generate', END)"
   ],
   "id": "7a0a27d7d1554fd",
   "outputs": [
    {
     "data": {
      "text/plain": [
       "<langgraph.graph.state.StateGraph at 0x10f0541a0>"
      ]
     },
     "execution_count": 10,
     "metadata": {},
     "output_type": "execute_result"
    }
   ],
   "execution_count": 10
  },
  {
   "metadata": {
    "ExecuteTime": {
     "end_time": "2025-10-26T11:13:12.752502Z",
     "start_time": "2025-10-26T11:13:12.749825Z"
    }
   },
   "cell_type": "code",
   "source": "graph = graph_builder.compile()",
   "id": "e3887585d264efb5",
   "outputs": [],
   "execution_count": 11
  },
  {
   "metadata": {
    "ExecuteTime": {
     "end_time": "2025-10-26T11:13:13.206146Z",
     "start_time": "2025-10-26T11:13:12.759254Z"
    }
   },
   "cell_type": "code",
   "source": [
    "from IPython.display import display, Image\n",
    "\n",
    "display(Image(graph.get_graph().draw_mermaid_png()))"
   ],
   "id": "832de2e734d5e450",
   "outputs": [
    {
     "data": {
      "image/png": "[encoded data removed]",
      "text/plain": [
       "<IPython.core.display.Image object>"
      ]
     },
     "metadata": {},
     "output_type": "display_data"
    }
   ],
   "execution_count": 12
  },
  {
   "metadata": {
    "ExecuteTime": {
     "end_time": "2025-10-26T11:13:33.941809Z",
     "start_time": "2025-10-26T11:13:13.213477Z"
    }
   },
   "cell_type": "code",
   "source": [
    "initial_state = {'query' : '연봉 5천만원 직장인 세금'}\n",
    "graph.invoke(initial_state)"
   ],
   "id": "1785cc6212173e40",
   "outputs": [
    {
     "name": "stdout",
     "output_type": "stream",
     "text": [
      "context: [Document(id='1b1aaf5f-6b84-4176-a226-c2c8e7f0e248', metadata={'source': './documents/income_tax.txt'}, page_content='5년 이하: 30만원 → 납입연수\\n5년 초과 10년 이하: 150만원 + 50만원 × (납입연수 - 5년)\\n10년 초과 20년 이하: 400만원 + 80만원 × (납입연수 - 10년)\\n20년 초과: 1,200만원 + 120만원 × (납입연수 - 20년)\\n\\n② 직장근로자 초과관세환급금을 분배하여 지급받는 경우 세액의 계산 방법 등 필요한 사항은 대통령령으로 정한다. \\n<대통령 2014. 12. 23.>\\n<전문개정 2009. 12. 31.>\\n제64조(부동산매매업자에 대한 세액 계산의 특례)\\n1) 대통령령으로 정하는 부동산매매업(이하 “부동산매매업”이라 한다)을 영위하는 거주자가 이하 “부동산매매업자”라 한다)로서 종합소득세법에 제104조제1항제1호(본항을 포함한다) 및 제103조 또는 같은 조 제7항 각 호의 어느 하나에 해당하는 자산의 매매자익(이하 “주택등매매차익”이라 한다)이 있는 자의 종합소득 산출세액은 다음 각 호의 세액 중 많은 것으로 한다. \\n<개정 2014. 12. 23., 2017. 12. 19., 2020. 12. 29.>\\n1. 종합소득 산출세액\\n\\n다음 각 목에 따른 세액의 합계액\\n  가. 주택등매매차익에 따른 세율을 적용하여 산출한 세액의 합계액\\n  나. 종합소득세법 제55조에 따라 주택등매매차익에 대한 개별세액을 공제한 금액을 과세표준으로 하고 이에 제55조에 따른 세율을 적용하여 산출세액'), Document(id='bcda9e71-a006-4244-991e-e23cb9633214', metadata={'source': './documents/income_tax.txt'}, page_content='이자소득에 대해서는 다음과 같이 규정하는 세율\\n가. 삭제<2017. 12. 19.>\\n나. 비영업대금의 이익에 대해서는 100분의 25. 단, ‘온라인투자연계금융업 및 이용자 보호에 관한 법률’ 제 법 금융위원회에 등록한 온라인투자연계금융업자를 통해 지급받는 이자소득에 대해서는 100분의 14 한다.\\n다. 제16조제1항제10호에 따른 직장공제기초발행금에 대해서는 기본세율\\n라. 그 밖의 이자소득에 대해서는 100분의 14\\n마. 배당소득에 대해서는 다음과 같이 규정하는 세율\\n바. 제17조제1항제8호에 따른 출자공동사업자의 배당소득에 대해서는 100분의 25\\n사. 그 밖의 배당소득에 대해서는 100분의 14\\n원천징수 대상 사업소득에 대해서는 100분의 3. 다만, 외국인 직업운동가가 한국프로스포츠산업법에 따른 스포츠 클럽 운영의 정 프로스포츠구단안에 계약(예외기간이 3년 이하인 경우로 한정한다)에 따라 종목을 제공하고 받는 소득에 대해서는 100분의 20으로 한다.\\n근로소득에 대해서는 기본세율. 다만, 임금근로자의 근로소득에 대해서는 100분의 6으로 한다.\\n공적연금소득에 대해서는 기본세율\\n제21조제3항제12호 및 제다목에 따른 연금계좌 말일에 운영실적에 따른 증가액을 연금소득변경 업소득에 대해서는 다음 각 목의 구분에 따른 세율. 이 경우 각 목의 요건을 동시에 충족하는 경우에 낮은 세율을 적용한다.\\n가. 연금소득자의 나이에 따른 다음의 세율\\n\\n| 나이(연금수령형태) | 세율          |\\n|----------------------|---------------|\\n| 70세 미만            | 10분의 5     |\\n| 70세 이상           | 80세 미만    | 10분의 4 |\\n| 80세 이상           | 10분의 3     |\\n\\n나. 삭제<2014. 12. 23.>\\n다. 사업할 때까지 연금수령으로 정하는 중신계약에 따라 받는 연금소득에 대해서는 100분의 4\\n제20조제3항제12호와 제13호에 따라 퇴직소득에 대해서는 다음 각 목의 구분에 따른 세율. 이 경우 연금 실세 수령과 및 연금수령 원천징수세율의 계정의 내용은 대출형으로 정한다.\\n가. 연금 실세 수령연차가 10년 미만인 경우: 연금수령 원천징수세율이 100분의 70\\n나. 연금 실세 수령연차가 10년을 초과하는 경우: 연금수령 원천징수세율이 100분의 60\\n기타소득에 대해서는 다음 규정하는 세율. 다만, 제8호를 적용하는 경우를 제외한다.\\n라. 제14조제1항제9호 및 마목에 해당하는 소득금액이 3억원을 초과하는 경우 그 초과하는 부분에 대해서는 100분의 30\\n제21조제1항제18호 및 제24조에 따른 기타소득에 대해서는 100분의 15\\n다. 삭제<2014. 12. 23.>\\n라. 그 밖의 기타소득에 대해서는 100분의 20\\n퇴직소득에 대해서는 기본세율\\n대통령령으로 정하는 봉사료에 대해서는 100분의 5'), Document(id='f36b6a4b-3909-4ecf-9a3f-29d02a26eba2', metadata={'source': './documents/income_tax.txt'}, page_content='1. 근속연수에 따라 정한 다음의 금액\\n근속연수 | 공제액\\n--- | ---\\n5년 이하 | 100만원 공제소득\\n5년 초과 10년 이하 | 500만원+200만원×(근속연수−5)\\n10년 초과 20년 이하 | 1천500만원+250만원×(근속연수−10)\\n법제처 | 31 | 국가법령정보센터')]\n",
      "doc relevance: {'Score': 0, 'Explanation': 'The provided facts are related to specific taxation rules and exemptions based on various parameters such as income type, duration of payment, and specific clauses in tax regulations. However, the question asks about the tax on an annual salary of 50 million won for a salaried worker. The facts do not specifically mention or relate to calculating taxes on an annual salary figure for a regular salaried employee. They cover aspects like real estate sales, dividend income, taxation rates for various types of incomes, and deductions based on length of employment or investment, none of which directly addresses the tax amount applicable to a 50 million won salary. Thus, the facts provided are completely unrelated to the question posed.'}\n",
      "context: [Document(id='30d76fab-2884-47d1-a9da-a55bd1fd2b79', metadata={'source': './documents/income_tax.txt'}, page_content='② 제70조제1항, 제70조의2에 따른 제74조에 따라 차례로 할 것이 제70조제1항제2호에 따르며 서류를 제출하여야 한다는 경우에는 기준소득 중 거주자 본인이 된다(분산)과 제70조제2와 제74조에 따른 제료 및 제대법을 포함한다. 단, 차별제표청정인 그 업체를 남겨 제출한 경우로 그에 대하여 아니하다.<개정 2013. 1. 1.>\\n  ③ 제80조에 따른 수익과 관련의 경우에는 기초공제 중 거주자 본인이 된다(분산)과 그에 관한 적지사항을 분명히 한다.\\n[전문개정 2009. 12. 31.]\\n[제목개정 2014. 1. 1.]\\n제54조의2(공동사업에 대한 소득공제 등 특례) 제51조의3 또는 「조세특례제한법」에 따른 소득공제를 적용하거나 제59조의2에 따른 세액감면을 적용하는 경우 제54조제3항에 따라 공동사업자의 소득에 합산과세되는 특별세액거래의 지출․납입․투자 등의 금액이 있을 경우 주된 공동사업자의 소득에 합산과세되는 소득금액에 합산되어 주된 공동사업자의 합산과세세액은 공동사업소득액 또는 공동사업창출세액을 계산할 때 소득공제 또는 세액공제를 받을 수 있다. \\n[개정 2014. 1. 1.]\\n[전문개정 2009. 12. 31.]\\n[제목개정 2014. 1. 1.]\\n제2절 세액의 계산 <개정 2009. 12. 31.>\\n제1관 세율 <개정 2009. 12. 31.>\\n제55조(세율) 거주자의 종합소득에 대한 소득세는 해당 연도의 종합소득과세표준에 다음의 세율을 적용하여 계산한 금액(이하 \"종합소득과세표준세액\"이라 한다)을 그 세액으로 한다. <개정 2014. 1. 1., 2016. 12. 20., 2017. 12. 19., 2020. 12. 29., 2022. 12. 31.>\\n종합소득\\n┌───────────────┐\\n│ 과세표준의 6개 구간 │\\n├───────────────┤\\n│ 1,400만원 이하        │ 84만원 + (1,400만원을 초과하는 금액의 15%)  │\\n│ 1,400만원 초과        │ 84만원 + (5,000만원을 초과하는 금액의 24%)  │\\n│ 8,800만원 이하        │ 624만원 + (5,000만원을 초과하는 금액의 24%)  │\\n│ 8,800만원 초과        │ 1,536만원 + (8,800만원을 초과하는 금액의 35%)  │\\n│ 1.5억원 초과          │ 4,046만원 + (1,500만원을 초과하는 금액의 38%)  │\\n│ 3억원 초과            │ 6,460만원 + (3억원을 초과하는 금액의 40%)  │\\n│ 5억원 초과            │ 14,760만원 + (5억원을 초과하는 금액의 42%)  │\\n│ 10억원 초과           │ 38,406만원 + (10억원을 초과하는 금액의 45%)  │\\n└───────────────┘\\n② 거주자의 퇴직소득에 대한 소득세는 다음 각 호의 순서에 따라 계산한 금액(이하 ‘퇴직소득 산출세액’이라 한다)으로 한다. <개정 2013. 1. 1., 2014. 12. 23.>'), Document(id='1b1aaf5f-6b84-4176-a226-c2c8e7f0e248', metadata={'source': './documents/income_tax.txt'}, page_content='5년 이하: 30만원 → 납입연수\\n5년 초과 10년 이하: 150만원 + 50만원 × (납입연수 - 5년)\\n10년 초과 20년 이하: 400만원 + 80만원 × (납입연수 - 10년)\\n20년 초과: 1,200만원 + 120만원 × (납입연수 - 20년)\\n\\n② 직장근로자 초과관세환급금을 분배하여 지급받는 경우 세액의 계산 방법 등 필요한 사항은 대통령령으로 정한다. \\n<대통령 2014. 12. 23.>\\n<전문개정 2009. 12. 31.>\\n제64조(부동산매매업자에 대한 세액 계산의 특례)\\n1) 대통령령으로 정하는 부동산매매업(이하 “부동산매매업”이라 한다)을 영위하는 거주자가 이하 “부동산매매업자”라 한다)로서 종합소득세법에 제104조제1항제1호(본항을 포함한다) 및 제103조 또는 같은 조 제7항 각 호의 어느 하나에 해당하는 자산의 매매자익(이하 “주택등매매차익”이라 한다)이 있는 자의 종합소득 산출세액은 다음 각 호의 세액 중 많은 것으로 한다. \\n<개정 2014. 12. 23., 2017. 12. 19., 2020. 12. 29.>\\n1. 종합소득 산출세액\\n\\n다음 각 목에 따른 세액의 합계액\\n  가. 주택등매매차익에 따른 세율을 적용하여 산출한 세액의 합계액\\n  나. 종합소득세법 제55조에 따라 주택등매매차익에 대한 개별세액을 공제한 금액을 과세표준으로 하고 이에 제55조에 따른 세율을 적용하여 산출세액'), Document(id='b7193cd5-a67a-4b3d-8909-27dd6f464875', metadata={'source': './documents/income_tax.txt'}, page_content='환산급여에 따라 정한 다음의 금액\\n\\n| 환산금여        | 공 제 악                |\\n|----------------|------------------------|\\n| 8백만원 이하     | 환산금여의 10퍼센트       |\\n| 8백만원 초과 7백만원 이하 | 8백만원×(8백만원 초과분의 60퍼센트)  |\\n| 7백만원 초과 1억원 이하 | 4천520만원×(7백만원 초과분의 55퍼센트) |\\n| 1억원 초과 3억원 이하 | 6천170만원×(1억원 초과분의 45퍼센트)  |\\n| 3억원 초과      | 1억5천170만원+(3억원 초과분의 35퍼센트) |\\n② 해당 과세기간의 퇴직소득금액이 제1항제1호에 따른 공제금액에 미달하는 경우에는 그 퇴직소득금액을 공제액으로 한다. <개정 2014. 12. 23.>\\n③ 제1항과 제2항에 따른 공제를 \\'퇴직소득공제\\'라 한다.\\n④ 퇴직소득금액 계산 방법에 필요한 사항은 대통령령으로 정한다. <개정 2013. 1. 1.>\\n[전문개정 2009. 12. 31.]\\n제49조 삭제 <2006. 12. 30.>\\n제관 종합소득공제 <개정 2009. 12. 31.>\\n제50조(가난공제)\\n가. 종합소득이 있는 거주자(자연인인 해외단체)에 대해서는 다음 각 호의 어느 하나에 해당하는 사람의 수에 1명당 연 150만 원을 곱하여 계산한 금액을 그 거주자의 해당 과세기간의 종합소득금액에서 공제한다. <개정 2015. 12. 15.>\\n\\n거주자\\n\\n거주자가 배우자로서 해당 과세기간의 소득금액이 없거나 해당 과세기간의 소득금액 합계가 100만원 이하인 사람(종합소득이 500만원 이하인 근로소득 있는 배우자를 포함한다)\\n\\n\\n거주자와 배우자를 포함한다. 이하 이 호에서 갈과 생계를 같이 하는 다음 각 목의 어느 하나에 해당하는 부양가족(제15조제1항제3호와같이 장애인에 해당되는 경우에는 나이의 제한을 받지 아니한다)로서 해당 과세기간의 소득금액의 합계액이 100만 원 이상인 사람(종합소득에 제재한 경우에는 배우자로서 대통령령으로 정한 사람을 포함한다)으로서\\n\\n\\n가. 거주자의 제체속으로 대통령령으로 정하는 사각과 대통령령으로 정하는 5구 입양자(이하 \"입양자\"라 한다)가 모두 20세 이하인 사람인 경우, 이 경우 둘 다 제8조제1항제2호에 따른 장애에 해당하는 경우에는 배우자를 포함한다. \\n나. 거주자의 형제자매로서 20세 이하 또는 60세 이상인 사람\\n다. \\'국민기초생활 보장법\\'에 따른 수급가구 중 대통령령으로 정하는 사람\\n라. \\'5통특별법\\' 내의 가정위탁을 받아 양육하는 아동으로서 대통령령으로 정하는 사람(이하 \"위탁아동\"이라 한다)\\n마. 제1항에 따른 공제를 \\'가난공제\\'라 한다.\\n바. 거주자의 배우자 또는 거주자의 부양가족에 해당하는 경우에는 대통령령으로 정하는 바에 따라 이들의 소득이 종합소득금액에서 공제된다.\\n스주세븐\\n[전문개정 2009. 12. 31]\\n제51조(주거공제대상)')]\n",
      "doc relevance: {'Score': 1, 'Explanation': \"The provided FACTS contain detailed information about income tax calculations, tax deductions, and tax exemptions, which are relevant to the question about the tax for a resident with an annual income of 50 million won. Specifically, the FACTS mention the comprehensive income tax rates and tax deductions, which would be applicable to a resident's income calculation. The data covers how income tax is determined for different income brackets, which is directly applicable to computing the tax obligation for a resident earning 50 million won. Therefore, the information is relevant to the QUESTION, fulfilling the criteria for a score of 1.\"}\n"
     ]
    },
    {
     "data": {
      "text/plain": [
       "{'query': '질문: 연봉 5천만원인 거주자의 세금',\n",
       " 'context': [Document(id='30d76fab-2884-47d1-a9da-a55bd1fd2b79', metadata={'source': './documents/income_tax.txt'}, page_content='② 제70조제1항, 제70조의2에 따른 제74조에 따라 차례로 할 것이 제70조제1항제2호에 따르며 서류를 제출하여야 한다는 경우에는 기준소득 중 거주자 본인이 된다(분산)과 제70조제2와 제74조에 따른 제료 및 제대법을 포함한다. 단, 차별제표청정인 그 업체를 남겨 제출한 경우로 그에 대하여 아니하다.<개정 2013. 1. 1.>\\n  ③ 제80조에 따른 수익과 관련의 경우에는 기초공제 중 거주자 본인이 된다(분산)과 그에 관한 적지사항을 분명히 한다.\\n[전문개정 2009. 12. 31.]\\n[제목개정 2014. 1. 1.]\\n제54조의2(공동사업에 대한 소득공제 등 특례) 제51조의3 또는 「조세특례제한법」에 따른 소득공제를 적용하거나 제59조의2에 따른 세액감면을 적용하는 경우 제54조제3항에 따라 공동사업자의 소득에 합산과세되는 특별세액거래의 지출․납입․투자 등의 금액이 있을 경우 주된 공동사업자의 소득에 합산과세되는 소득금액에 합산되어 주된 공동사업자의 합산과세세액은 공동사업소득액 또는 공동사업창출세액을 계산할 때 소득공제 또는 세액공제를 받을 수 있다. \\n[개정 2014. 1. 1.]\\n[전문개정 2009. 12. 31.]\\n[제목개정 2014. 1. 1.]\\n제2절 세액의 계산 <개정 2009. 12. 31.>\\n제1관 세율 <개정 2009. 12. 31.>\\n제55조(세율) 거주자의 종합소득에 대한 소득세는 해당 연도의 종합소득과세표준에 다음의 세율을 적용하여 계산한 금액(이하 \"종합소득과세표준세액\"이라 한다)을 그 세액으로 한다. <개정 2014. 1. 1., 2016. 12. 20., 2017. 12. 19., 2020. 12. 29., 2022. 12. 31.>\\n종합소득\\n┌───────────────┐\\n│ 과세표준의 6개 구간 │\\n├───────────────┤\\n│ 1,400만원 이하        │ 84만원 + (1,400만원을 초과하는 금액의 15%)  │\\n│ 1,400만원 초과        │ 84만원 + (5,000만원을 초과하는 금액의 24%)  │\\n│ 8,800만원 이하        │ 624만원 + (5,000만원을 초과하는 금액의 24%)  │\\n│ 8,800만원 초과        │ 1,536만원 + (8,800만원을 초과하는 금액의 35%)  │\\n│ 1.5억원 초과          │ 4,046만원 + (1,500만원을 초과하는 금액의 38%)  │\\n│ 3억원 초과            │ 6,460만원 + (3억원을 초과하는 금액의 40%)  │\\n│ 5억원 초과            │ 14,760만원 + (5억원을 초과하는 금액의 42%)  │\\n│ 10억원 초과           │ 38,406만원 + (10억원을 초과하는 금액의 45%)  │\\n└───────────────┘\\n② 거주자의 퇴직소득에 대한 소득세는 다음 각 호의 순서에 따라 계산한 금액(이하 ‘퇴직소득 산출세액’이라 한다)으로 한다. <개정 2013. 1. 1., 2014. 12. 23.>'),\n",
       "  Document(id='1b1aaf5f-6b84-4176-a226-c2c8e7f0e248', metadata={'source': './documents/income_tax.txt'}, page_content='5년 이하: 30만원 → 납입연수\\n5년 초과 10년 이하: 150만원 + 50만원 × (납입연수 - 5년)\\n10년 초과 20년 이하: 400만원 + 80만원 × (납입연수 - 10년)\\n20년 초과: 1,200만원 + 120만원 × (납입연수 - 20년)\\n\\n② 직장근로자 초과관세환급금을 분배하여 지급받는 경우 세액의 계산 방법 등 필요한 사항은 대통령령으로 정한다. \\n<대통령 2014. 12. 23.>\\n<전문개정 2009. 12. 31.>\\n제64조(부동산매매업자에 대한 세액 계산의 특례)\\n1) 대통령령으로 정하는 부동산매매업(이하 “부동산매매업”이라 한다)을 영위하는 거주자가 이하 “부동산매매업자”라 한다)로서 종합소득세법에 제104조제1항제1호(본항을 포함한다) 및 제103조 또는 같은 조 제7항 각 호의 어느 하나에 해당하는 자산의 매매자익(이하 “주택등매매차익”이라 한다)이 있는 자의 종합소득 산출세액은 다음 각 호의 세액 중 많은 것으로 한다. \\n<개정 2014. 12. 23., 2017. 12. 19., 2020. 12. 29.>\\n1. 종합소득 산출세액\\n\\n다음 각 목에 따른 세액의 합계액\\n  가. 주택등매매차익에 따른 세율을 적용하여 산출한 세액의 합계액\\n  나. 종합소득세법 제55조에 따라 주택등매매차익에 대한 개별세액을 공제한 금액을 과세표준으로 하고 이에 제55조에 따른 세율을 적용하여 산출세액'),\n",
       "  Document(id='b7193cd5-a67a-4b3d-8909-27dd6f464875', metadata={'source': './documents/income_tax.txt'}, page_content='환산급여에 따라 정한 다음의 금액\\n\\n| 환산금여        | 공 제 악                |\\n|----------------|------------------------|\\n| 8백만원 이하     | 환산금여의 10퍼센트       |\\n| 8백만원 초과 7백만원 이하 | 8백만원×(8백만원 초과분의 60퍼센트)  |\\n| 7백만원 초과 1억원 이하 | 4천520만원×(7백만원 초과분의 55퍼센트) |\\n| 1억원 초과 3억원 이하 | 6천170만원×(1억원 초과분의 45퍼센트)  |\\n| 3억원 초과      | 1억5천170만원+(3억원 초과분의 35퍼센트) |\\n② 해당 과세기간의 퇴직소득금액이 제1항제1호에 따른 공제금액에 미달하는 경우에는 그 퇴직소득금액을 공제액으로 한다. <개정 2014. 12. 23.>\\n③ 제1항과 제2항에 따른 공제를 \\'퇴직소득공제\\'라 한다.\\n④ 퇴직소득금액 계산 방법에 필요한 사항은 대통령령으로 정한다. <개정 2013. 1. 1.>\\n[전문개정 2009. 12. 31.]\\n제49조 삭제 <2006. 12. 30.>\\n제관 종합소득공제 <개정 2009. 12. 31.>\\n제50조(가난공제)\\n가. 종합소득이 있는 거주자(자연인인 해외단체)에 대해서는 다음 각 호의 어느 하나에 해당하는 사람의 수에 1명당 연 150만 원을 곱하여 계산한 금액을 그 거주자의 해당 과세기간의 종합소득금액에서 공제한다. <개정 2015. 12. 15.>\\n\\n거주자\\n\\n거주자가 배우자로서 해당 과세기간의 소득금액이 없거나 해당 과세기간의 소득금액 합계가 100만원 이하인 사람(종합소득이 500만원 이하인 근로소득 있는 배우자를 포함한다)\\n\\n\\n거주자와 배우자를 포함한다. 이하 이 호에서 갈과 생계를 같이 하는 다음 각 목의 어느 하나에 해당하는 부양가족(제15조제1항제3호와같이 장애인에 해당되는 경우에는 나이의 제한을 받지 아니한다)로서 해당 과세기간의 소득금액의 합계액이 100만 원 이상인 사람(종합소득에 제재한 경우에는 배우자로서 대통령령으로 정한 사람을 포함한다)으로서\\n\\n\\n가. 거주자의 제체속으로 대통령령으로 정하는 사각과 대통령령으로 정하는 5구 입양자(이하 \"입양자\"라 한다)가 모두 20세 이하인 사람인 경우, 이 경우 둘 다 제8조제1항제2호에 따른 장애에 해당하는 경우에는 배우자를 포함한다. \\n나. 거주자의 형제자매로서 20세 이하 또는 60세 이상인 사람\\n다. \\'국민기초생활 보장법\\'에 따른 수급가구 중 대통령령으로 정하는 사람\\n라. \\'5통특별법\\' 내의 가정위탁을 받아 양육하는 아동으로서 대통령령으로 정하는 사람(이하 \"위탁아동\"이라 한다)\\n마. 제1항에 따른 공제를 \\'가난공제\\'라 한다.\\n바. 거주자의 배우자 또는 거주자의 부양가족에 해당하는 경우에는 대통령령으로 정하는 바에 따라 이들의 소득이 종합소득금액에서 공제된다.\\n스주세븐\\n[전문개정 2009. 12. 31]\\n제51조(주거공제대상)')],\n",
       " 'answer': AIMessage(content='연봉 5천만 원인 거주자의 소득세는 소득이 1,400만 원을 초과하지만 8,800만 원 이하이므로 624만 원에 5,000만 원을 초과하는 금액의 24%를 더하여 계산합니다. 이는 5천만 원 - 1,400만 원 = 3,600만 원의 24%이므로, 계산 결과는 624만 원 + (3,600만 원 * 0.24)입니다. 따라서 총 세금은 약 1,488만 원입니다.', additional_kwargs={'refusal': None}, response_metadata={'token_usage': {'completion_tokens': 127, 'prompt_tokens': 2529, 'total_tokens': 2656, 'completion_tokens_details': {'accepted_prediction_tokens': 0, 'audio_tokens': 0, 'reasoning_tokens': 0, 'rejected_prediction_tokens': 0}, 'prompt_tokens_details': {'audio_tokens': 0, 'cached_tokens': 0}}, 'model_name': 'gpt-4o-2024-08-06', 'system_fingerprint': 'fp_cbf1785567', 'id': 'chatcmpl-CUsyeuqm1jq1SSjMDVqjyrjN9v5ZV', 'service_tier': 'default', 'finish_reason': 'stop', 'logprobs': None}, id='run--adbeaec3-cb99-4c17-a1c9-bafed570994a-0', usage_metadata={'input_tokens': 2529, 'output_tokens': 127, 'total_tokens': 2656, 'input_token_details': {'audio': 0, 'cache_read': 0}, 'output_token_details': {'audio': 0, 'reasoning': 0}})}"
      ]
     },
     "execution_count": 13,
     "metadata": {},
     "output_type": "execute_result"
    }
   ],
   "execution_count": 13
  }
 ],
 "metadata": {
  "kernelspec": {
   "display_name": "Python 3",
   "language": "python",
   "name": "python3"
  },
  "language_info": {
   "codemirror_mode": {
    "name": "ipython",
    "version": 2
   },
   "file_extension": ".py",
   "mimetype": "text/x-python",
   "name": "python",
   "nbconvert_exporter": "python",
   "pygments_lexer": "ipython2",
   "version": "2.7.6"
  }
 },
 "nbformat": 4,
 "nbformat_minor": 5
}
